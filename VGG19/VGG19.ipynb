{
  "cells": [
    {
      "cell_type": "code",
      "execution_count": null,
      "metadata": {
        "id": "H38EzoeWDxCw"
      },
      "outputs": [],
      "source": [
        "import torch\n",
        "import torchvision.transforms as transforms\n",
        "from PIL import Image\n",
        "import torch.nn as nn\n",
        "import torchvision.models as models\n",
        "import torch.optim as optim\n",
        "from torchvision.utils import save_image"
      ]
    },
    {
      "cell_type": "code",
      "execution_count": null,
      "metadata": {
        "id": "Yesib2rBzdFF"
      },
      "outputs": [],
      "source": [
        "import cv2"
      ]
    },
    {
      "cell_type": "code",
      "execution_count": null,
      "metadata": {
        "colab": {
          "base_uri": "https://localhost:8080/"
        },
        "id": "YvUNbEk7Dym3",
        "outputId": "4c490cd6-cd63-4f99-d12e-f86a15d30344"
      },
      "outputs": [
        {
          "output_type": "stream",
          "name": "stderr",
          "text": [
            "/usr/local/lib/python3.9/dist-packages/torchvision/models/_utils.py:208: UserWarning: The parameter 'pretrained' is deprecated since 0.13 and may be removed in the future, please use 'weights' instead.\n",
            "  warnings.warn(\n",
            "/usr/local/lib/python3.9/dist-packages/torchvision/models/_utils.py:223: UserWarning: Arguments other than a weight enum or `None` for 'weights' are deprecated since 0.13 and may be removed in the future. The current behavior is equivalent to passing `weights=VGG19_Weights.IMAGENET1K_V1`. You can also use `weights=VGG19_Weights.DEFAULT` to get the most up-to-date weights.\n",
            "  warnings.warn(msg)\n"
          ]
        }
      ],
      "source": [
        "#Loading the model vgg19 that will serve as the base model\n",
        "model=models.vgg19(pretrained=True).features\n",
        "#Assigning the GPU to the variable device\n",
        "device=torch.device( \"cuda\" if (torch.cuda.is_available()) else 'cpu')"
      ]
    },
    {
      "cell_type": "code",
      "execution_count": null,
      "metadata": {
        "id": "jPvMFof_D3Gv"
      },
      "outputs": [],
      "source": [
        "#defing a function that will load the image and perform the required preprocessing and put it on the GPU\n",
        "def image_loader(path):\n",
        "    image=Image.open(path)\n",
        "    #defining the image transformation steps to be performed before feeding them to the model\n",
        "    loader=transforms.Compose([transforms.Resize((512,512)), transforms.ToTensor()])\n",
        "    #The preprocessing steps involves resizing the image and then converting it to a tensor\n",
        "    image=loader(image).unsqueeze(0)\n",
        "    return image.to(device,torch.float)\n",
        "\n",
        "#Loading the original and the style image\n",
        "original_image=image_loader('Nikola-Tesla.jpg')\n",
        "style_image=image_loader('style Image.jpg')\n",
        "\n",
        "#Creating the generated image from the original image\n",
        "generated_image=original_image.clone().requires_grad_(True)\n",
        "\n",
        "# #Loading the original and the style image\n",
        "# original_image=image_loader('Original.jpg')\n",
        "# style_image=image_loader('Style Image.jpg')\n",
        "\n",
        "# #Creating the generated image from the original image\n",
        "# #generated_image=image_loader('Generated.jpg')\n",
        "# generated_image=original_image.clone().requires_grad_(True)"
      ]
    },
    {
      "cell_type": "code",
      "execution_count": null,
      "metadata": {
        "id": "zB0RQTVOD3ha"
      },
      "outputs": [],
      "source": [
        "#Defining a class that for the model\n",
        "class VGG(nn.Module):\n",
        "    def __init__(self):\n",
        "        super(VGG,self).__init__()\n",
        "        self.req_features= ['0','5','10','19','28'] \n",
        "        #Since we need only the 5 layers in the model so we will be dropping all the rest layers from the features of the model\n",
        "        self.model=models.vgg19(pretrained=True).features[:29] #model will contain the first 29 layers\n",
        "    \n",
        "   \n",
        "    #x holds the input tensor(image) that will be feeded to each layer\n",
        "    def forward(self,x):\n",
        "        #initialize an array that wil hold the activations from the chosen layers\n",
        "        features=[]\n",
        "        #Iterate over all the layers of the mode\n",
        "        for layer_num,layer in enumerate(self.model):\n",
        "            #activation of the layer will stored in x\n",
        "            x=layer(x)\n",
        "            #appending the activation of the selected layers and return the feature array\n",
        "            if (str(layer_num) in self.req_features):\n",
        "                features.append(x)\n",
        "                \n",
        "        return features"
      ]
    },
    {
      "cell_type": "code",
      "execution_count": null,
      "metadata": {
        "id": "PiaAmq8yD56G"
      },
      "outputs": [],
      "source": [
        "def calc_content_loss(gen_feat,orig_feat):\n",
        "    #calculating the content loss of each layer by calculating the MSE between the content and generated features and adding it to content loss\n",
        "    content_l=torch.mean((gen_feat-orig_feat)**2)\n",
        "    return content_l"
      ]
    },
    {
      "cell_type": "code",
      "execution_count": null,
      "metadata": {
        "id": "hX5L_0nfD8L6"
      },
      "outputs": [],
      "source": [
        "def calc_style_loss(gen,style):\n",
        "    #Calculating the gram matrix for the style and the generated image\n",
        "    batch_size,channel,height,width=gen.shape\n",
        "\n",
        "    G=torch.mm(gen.view(channel,height*width),gen.view(channel,height*width).t())\n",
        "    A=torch.mm(style.view(channel,height*width),style.view(channel,height*width).t())\n",
        "        \n",
        "    #Calcultating the style loss of each layer by calculating the MSE between the gram matrix of the style image and the generated image and adding it to style loss\n",
        "    style_l=torch.mean((G-A)**2)\n",
        "    return style_l"
      ]
    },
    {
      "cell_type": "code",
      "execution_count": null,
      "metadata": {
        "id": "8lx65EBMD-oa"
      },
      "outputs": [],
      "source": [
        "def calculate_loss(gen_features, orig_feautes, style_featues):\n",
        "    style_loss=content_loss=0\n",
        "    for gen,cont,style in zip(gen_features,orig_feautes,style_featues):\n",
        "        #extracting the dimensions from the generated image\n",
        "        content_loss+=calc_content_loss(gen,cont)\n",
        "        style_loss+=calc_style_loss(gen,style)\n",
        "    \n",
        "    #calculating the total loss of e th epoch\n",
        "    total_loss=alpha*content_loss + beta*style_loss \n",
        "    return total_loss"
      ]
    },
    {
      "cell_type": "code",
      "execution_count": null,
      "metadata": {
        "id": "wopBAq2DEB-D"
      },
      "outputs": [],
      "source": [
        "#Load the model to the GPU\n",
        "model=VGG().to(device).eval() \n",
        "\n",
        "#initialize the paramerters required for fitting the model\n",
        "epoch=1000\n",
        "lr=0.004\n",
        "alpha=8\n",
        "beta=70\n",
        "\n",
        "#using adam optimizer and it will update the generated image not the model parameter \n",
        "optimizer=optim.Adam([generated_image],lr=lr)"
      ]
    },
    {
      "cell_type": "code",
      "execution_count": null,
      "metadata": {
        "colab": {
          "base_uri": "https://localhost:8080/"
        },
        "id": "QUkuIAPNECi9",
        "outputId": "8134c36c-81d2-4701-c0b7-dd0f48bdc313"
      },
      "outputs": [
        {
          "output_type": "stream",
          "name": "stdout",
          "text": [
            "tensor(88275760., device='cuda:0', grad_fn=<AddBackward0>)\n"
          ]
        }
      ],
      "source": [
        "#iterating for 1000 times\n",
        "for e in range (epoch):\n",
        "    #extracting the features of generated, content and the original required for calculating the loss\n",
        "    gen_features=model(generated_image)\n",
        "    orig_feautes=model(original_image)\n",
        "    style_featues=model(style_image)\n",
        "    \n",
        "    #iterating over the activation of each layer and calculate the loss and add it to the content and the style loss\n",
        "    total_loss=calculate_loss(gen_features, orig_feautes, style_featues)\n",
        "    #optimize the pixel values of the generated image and backpropagate the loss\n",
        "    optimizer.zero_grad()\n",
        "    total_loss.backward()\n",
        "    optimizer.step()"
      ]
    },
    {
      "cell_type": "code",
      "source": [
        "save_image(generated_image,\"gen.png\")    "
      ],
      "metadata": {
        "id": "Hnc9uMLoq6nU"
      },
      "execution_count": null,
      "outputs": []
    }
  ],
  "metadata": {
    "accelerator": "GPU",
    "colab": {
      "provenance": []
    },
    "gpuClass": "standard",
    "kernelspec": {
      "display_name": "Python 3",
      "name": "python3"
    },
    "language_info": {
      "name": "python"
    }
  },
  "nbformat": 4,
  "nbformat_minor": 0
}