{
 "cells": [
  {
   "cell_type": "code",
   "execution_count": 7,
   "id": "f82f39fd",
   "metadata": {},
   "outputs": [
    {
     "name": "stdout",
     "output_type": "stream",
     "text": [
      "/home/ubuntu/CIS522-AI-Chinese-Painter/Generated_Images\n"
     ]
    }
   ],
   "source": [
    "import os\n",
    " \n",
    "os.chdir('/home/ubuntu/CIS522-AI-Chinese-Painter/Generated_Images')\n",
    "print(os.getcwd())\n",
    "ls_dir = os.listdir()\n",
    "for count, f in enumerate(ls_dir):\n",
    "    f_name, f_ext = os.path.splitext(f)\n",
    "    f_name = f_name.rstrip('_g')\n",
    "    \n",
    "    new_name = f'{f_name}{f_ext}'\n",
    "\n",
    "    os.rename(f, new_name)"
   ]
  },
  {
   "cell_type": "code",
   "execution_count": 9,
   "id": "88338c26",
   "metadata": {},
   "outputs": [
    {
     "name": "stdout",
     "output_type": "stream",
     "text": [
      "/home/ubuntu/CIS522-AI-Chinese-Painter\n"
     ]
    }
   ],
   "source": [
    "os.chdir('/home/ubuntu/CIS522-AI-Chinese-Painter')\n",
    "print(os.getcwd())"
   ]
  },
  {
   "cell_type": "code",
   "execution_count": 5,
   "id": "4c756a83",
   "metadata": {},
   "outputs": [],
   "source": [
    "import random, os\n",
    "image_list = os.listdir('/home/ubuntu/CIS522-AI-Chinese-Painter/Generated_Images')\n",
    "random.shuffle(image_list)\n",
    "image_train = image_list[:int(len(image_list) * 0.7)]\n",
    "image_valid = image_list[int(len(image_list) * 0.7):int(len(image_list) * 0.9)]\n",
    "image_test = image_list[int(len(image_list) * 0.9):]"
   ]
  },
  {
   "cell_type": "code",
   "execution_count": 20,
   "id": "0cbe1992",
   "metadata": {},
   "outputs": [],
   "source": [
    "for image in image_test:\n",
    "#     generated_image = '/home/ubuntu/CIS522-AI-Chinese-Painter/Generated_Images/' + image\n",
    "    original_image = '/home/ubuntu/CIS522-AI-Chinese-Painter/Original_Images/images_16k/' + image.rstrip('.png') + '.jpg'\n",
    "    target_original_image = '/home/ubuntu/CIS522-AI-Chinese-Painter/dataset/A/test/' + image.rstrip('.png') + '.jpg'\n",
    "    generated_image = '/home/ubuntu/CIS522-AI-Chinese-Painter/Generated_Images/' + image\n",
    "    target_generated_image = '/home/ubuntu/CIS522-AI-Chinese-Painter/dataset/B/test/' + image.rstrip('.png') + '.jpg'\n",
    "    os.system(f'cp {original_image} {target_original_image}')\n",
    "#     os.system(f'cp {generated_image} {target_generated_image}')\n",
    "    from PIL import Image\n",
    "    im1 = Image.open(generated_image)\n",
    "    im1.save(target_generated_image)"
   ]
  },
  {
   "cell_type": "code",
   "execution_count": 15,
   "id": "c6f73307",
   "metadata": {},
   "outputs": [],
   "source": [
    "generated_image = '/home/ubuntu/CIS522-AI-Chinese-Painter/Generated_Images/' + image_train[0]\n",
    "target_generated_image = '/home/ubuntu/CIS522-AI-Chinese-Painter/dataset/B/train/' + image_train[0].rstrip('.png') + '.jpg'\n",
    "from PIL import Image\n",
    "im1 = Image.open(generated_image)\n",
    "im1.save(target_generated_image)"
   ]
  },
  {
   "cell_type": "code",
   "execution_count": null,
   "id": "b3486a65",
   "metadata": {},
   "outputs": [],
   "source": []
  }
 ],
 "metadata": {
  "kernelspec": {
   "display_name": "Python 3 (ipykernel)",
   "language": "python",
   "name": "python3"
  },
  "language_info": {
   "codemirror_mode": {
    "name": "ipython",
    "version": 3
   },
   "file_extension": ".py",
   "mimetype": "text/x-python",
   "name": "python",
   "nbconvert_exporter": "python",
   "pygments_lexer": "ipython3",
   "version": "3.9.16"
  }
 },
 "nbformat": 4,
 "nbformat_minor": 5
}
